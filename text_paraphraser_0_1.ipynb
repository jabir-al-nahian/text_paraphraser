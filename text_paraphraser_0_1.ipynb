{
  "nbformat": 4,
  "nbformat_minor": 0,
  "metadata": {
    "colab": {
      "provenance": [],
      "include_colab_link": true
    },
    "kernelspec": {
      "name": "python3",
      "display_name": "Python 3"
    },
    "language_info": {
      "name": "python"
    }
  },
  "cells": [
    {
      "cell_type": "markdown",
      "metadata": {
        "id": "view-in-github",
        "colab_type": "text"
      },
      "source": [
        "<a href=\"https://colab.research.google.com/github/jabir-al-nahian/text_paraphraser/blob/main/text_paraphraser_0_1.ipynb\" target=\"_parent\"><img src=\"https://colab.research.google.com/assets/colab-badge.svg\" alt=\"Open In Colab\"/></a>"
      ]
    },
    {
      "cell_type": "code",
      "metadata": {
        "id": "hGA99cmKYsMb",
        "colab": {
          "base_uri": "https://localhost:8080/"
        },
        "outputId": "cfaec7e1-35d4-4cc0-b413-074d05390100"
      },
      "source": [
        "!pip3 install PyDictionary\n",
        "from PyDictionary import PyDictionary as pyD"
      ],
      "execution_count": null,
      "outputs": [
        {
          "output_type": "stream",
          "text": [
            "Requirement already satisfied: PyDictionary in /usr/local/lib/python3.7/dist-packages (2.0.1)\n",
            "Requirement already satisfied: requests in /usr/local/lib/python3.7/dist-packages (from PyDictionary) (2.23.0)\n",
            "Requirement already satisfied: bs4 in /usr/local/lib/python3.7/dist-packages (from PyDictionary) (0.0.1)\n",
            "Requirement already satisfied: goslate in /usr/local/lib/python3.7/dist-packages (from PyDictionary) (1.5.1)\n",
            "Requirement already satisfied: click in /usr/local/lib/python3.7/dist-packages (from PyDictionary) (7.1.2)\n",
            "Requirement already satisfied: certifi>=2017.4.17 in /usr/local/lib/python3.7/dist-packages (from requests->PyDictionary) (2021.5.30)\n",
            "Requirement already satisfied: idna<3,>=2.5 in /usr/local/lib/python3.7/dist-packages (from requests->PyDictionary) (2.10)\n",
            "Requirement already satisfied: urllib3!=1.25.0,!=1.25.1,<1.26,>=1.21.1 in /usr/local/lib/python3.7/dist-packages (from requests->PyDictionary) (1.24.3)\n",
            "Requirement already satisfied: chardet<4,>=3.0.2 in /usr/local/lib/python3.7/dist-packages (from requests->PyDictionary) (3.0.4)\n",
            "Requirement already satisfied: beautifulsoup4 in /usr/local/lib/python3.7/dist-packages (from bs4->PyDictionary) (4.6.3)\n",
            "Requirement already satisfied: futures in /usr/local/lib/python3.7/dist-packages (from goslate->PyDictionary) (3.1.1)\n"
          ],
          "name": "stdout"
        }
      ]
    },
    {
      "cell_type": "code",
      "metadata": {
        "id": "IyIinm9EX0o4"
      },
      "source": [
        "preposition = [\"about\",\"anti\",\"around\",\"as\",\"at\",\"because\",\"but\",\"by\",\"for\",\"from\",\"in\",\"into\",\"minus\",\"of\",\"off\",\n",
        "               \"on\",\"onto\",\"per\",\"since\",\"than\",\"through\",\"to\",\"toward\",\"towards\",\"under\",\"underneath\",\"unlike\",\n",
        "               \"until\",\"upon\",\"versus\",\"via\",\"with\",\"within\",\"without\"]\n",
        "\n",
        "whQuestion = [\"what\",\"when\",\"where\",\"which\",\"who\",\"whom\",\"whose\",\"why\",\"how\"]\n",
        "numbers = [\"one\",\"two\",\"three\",\"four\",\"five\",\"six\",\"seven\",\"eight\",\"nine\",\"ten\",\"eleven\",\"twelve\",\"thirteen\",\n",
        "           \"fourteen\",\"fifteen\",\"sixteen\",\"seventeen\",\"eighteen\",\"nineteen\",\"twenty\",\"thirty\",\"forty\",\"fifty\",\n",
        "           \"sixty\",\"seventy\",\"eighty\",\"ninety\",\"hundred\"]\n",
        "auxilaryVerb = [\"am\", \"is\", \"are\", \"was\", \"were\", \"being\", \"been\", \"will\",\"has\", \"have\", \"had\", \"having\",\"does\", \"do\", \"did\",\n",
        "                \"shall\",\"should\",\"would\",\"could\"]\n",
        "pronouns = [\"i\",\"we\",\"you\",\"he\",\"she\",\"it\",\"they\",\"me\",\"us\",\"her\",\"him\",\"them\",\"mine\",\"ours\",\"yours\",\"hers\",\n",
        "            \"his\",\"theirs\",\"my\",\"our\",\"your\",\"her\",\"his\",\"their\",\"myself\",\"yourself\",\"herself\",\"himself\",\n",
        "            \"itself\",\"ourselves\",\"yourselves\",\"themselves\",\"such\",\"that\",\"these\",\"this\",\"those\"]\n",
        "randomWord = [\"not\",\"no\",\"a\",\"an\"]"
      ],
      "execution_count": null,
      "outputs": []
    },
    {
      "cell_type": "code",
      "metadata": {
        "id": "V9QBsavBYLIu"
      },
      "source": [
        "data = []\n",
        "myTextFile = open(\"/content/myText.txt\",\"r\")\n",
        "text = myTextFile.read()\n",
        "for i in text.split(\" \"):\n",
        "  if \"\\n\" in i:\n",
        "    split1,split2 = i.split(\"\\n\")\n",
        "    if split1[-1] in \",.!\":\n",
        "      data.append(split1.split(split1[-1])[0])\n",
        "      data.append(split1[-1])\n",
        "    else: data.append(split1)\n",
        "    data.append(\"\\n\")\n",
        "    if split2 != \"\":\n",
        "      if split2[-1] in \",.!\":\n",
        "        data.append(split2.split(split2[-1])[0])\n",
        "        data.append(split2[-1])\n",
        "      else: data.append(split2)\n",
        "  elif i[-1] in \".,!\":\n",
        "    data.append(i.split(i[-1])[0])\n",
        "    data.append(i[-1])\n",
        "  else: data.append(i)"
      ],
      "execution_count": null,
      "outputs": []
    },
    {
      "cell_type": "code",
      "metadata": {
        "id": "rNvjvIxrYMMo"
      },
      "source": [
        "newdata = []\n",
        "for i in data:\n",
        "  j = i.lower()\n",
        "  if i in \".,!\\n\": newdata.append(i)\n",
        "  elif j in preposition or j in whQuestion or j in numbers or j in auxilaryVerb or j in pronouns or j in randomWord:\n",
        "    newdata.append(i)\n",
        "  else:\n",
        "    val = pyD.synonym(j)\n",
        "    if val is not None:\n",
        "      if len(val) > 1:newdata.append(val[1])\n",
        "      else: newdata.append(val[0])\n",
        "    else: newdata.append(i)"
      ],
      "execution_count": null,
      "outputs": []
    },
    {
      "cell_type": "code",
      "metadata": {
        "colab": {
          "base_uri": "https://localhost:8080/"
        },
        "id": "uMQsph9eYP5z",
        "outputId": "392f8bb5-9821-4309-c6ae-8d11b5b795ef"
      },
      "source": [
        "newText = newdata[0]\n",
        "matchedCount  = 1 if data[0] == newdata[0] else 0\n",
        "for i in range(1,len(newdata)):\n",
        "  if data[i] == newdata[i]: matchedCount += 1\n",
        "  val = newdata[i]\n",
        "  if val in \".,!\\n\": newText += val\n",
        "  else:\n",
        "    if newdata[i-1] == \"\\n\": newText += val\n",
        "    else: newText += \" \"+val\n",
        "\n",
        "print(\"\\tOld Text >>>>\")\n",
        "print(text)\n",
        "print(\"\\tNew Text >>>>\")\n",
        "print(newText)\n",
        "print(f\"Similarity = {(matchedCount/len(data)*100)} %\")"
      ],
      "execution_count": null,
      "outputs": [
        {
          "output_type": "stream",
          "text": [
            "\tOld Text >>>>\n",
            "I had never seen a house on fire before, so, one evening when I heard fire engines with loud alarm bells rushing past my house. I quickly ran out and, a few streets away, joined a large crowd of people. We could see the fire only from a distance because the police would not allow any one near the building on fire.\n",
            "What a terrible scene I saw that day! Huge flames of fire were coming out of each floor, and black and thick smoke spread all around. Four fire engines were engaged and the firemen in their uniform were playing the hose on various parts of the building. Then the tall ladders of the fire engine were stretched upwards. Some firemen climbed up with hoses in their hands. The continuous flooding brought the fire under control but the building was completely destroyed\n",
            "\n",
            "\tNew Text >>>>\n",
            "I had ne'er get a look a frat house on grassfire earlier, thus, one nightfall when I detected grassfire geartrain with hearable consternation death bell running game yesterday my frat house. I chop-chop loser down drunk, a multiplicity avenue off, married a macroscopic mob of doomed. We could get a look over-the-counter medicine grassfire just from a mileage because over-the-counter medicine posse comitatus would not pass whatsoever one adjacent over-the-counter medicine upstairs on grassfire.\n",
            "What a awful incident I whipsaw that unit of time! Brobdingnagian flaming of grassfire were upcoming down of from each one parquet, drunk dark drunk heavy aerosol sprawl every around. Four grassfire geartrain were occupied drunk over-the-counter medicine play in their jump suit were stopping over-the-counter medicine garden hose on different surround of over-the-counter medicine upstairs. so over-the-counter medicine large rundle of over-the-counter medicine grassfire geartrain were flexile upwardly. any play rise upward with garden hose in their safekeeping. over-the-counter medicine continual behavior therapy take over-the-counter medicine grassfire under rule but over-the-counter medicine upstairs was totally war-torn\n",
            "\n",
            "Similarity = 37.9746835443038 %\n"
          ],
          "name": "stdout"
        }
      ]
    }
  ]
}